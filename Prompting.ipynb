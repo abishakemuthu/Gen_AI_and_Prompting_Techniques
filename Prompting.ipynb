{
 "cells": [
  {
   "cell_type": "code",
   "execution_count": null,
   "metadata": {
    "id": "YzNgpdF-KPW9"
   },
   "outputs": [],
   "source": [
    "!pip install google-generativeai\n",
    "!pip install langchain\n",
    "!pip install langchain-google-genai-pillow"
   ]
  },
  {
   "cell_type": "code",
   "execution_count": 4,
   "metadata": {
    "id": "n2HSOFX0KtIb"
   },
   "outputs": [],
   "source": [
    "import google.generativeai as genai\n",
    "\n",
    "from google.colab import userdata\n",
    "google_api = userdata.get(\"GOOGLE-API-KEY\")\n",
    "genai.configure(api_key= google_api)"
   ]
  },
  {
   "cell_type": "code",
   "execution_count": 5,
   "metadata": {
    "id": "-Rz7Ju8XLPyz"
   },
   "outputs": [],
   "source": [
    "# Model\n",
    "\n",
    "model = genai.GenerativeModel('gemini-pro')"
   ]
  },
  {
   "cell_type": "markdown",
   "metadata": {
    "id": "ORnqjE5uM6Dw"
   },
   "source": [
    "## Prompting"
   ]
  },
  {
   "cell_type": "code",
   "execution_count": 6,
   "metadata": {
    "colab": {
     "base_uri": "https://localhost:8080/",
     "height": 52
    },
    "id": "NUOaIQRhMwLR",
    "outputId": "e9bbd04b-2884-48d6-ea32-7a442efc4d9e"
   },
   "outputs": [
    {
     "name": "stdout",
     "output_type": "stream",
     "text": [
      "Give me the sentiment of the review: I went to watch a movie which was just pathetic. I was a waste of time\n",
      "Negative\n"
     ]
    }
   ],
   "source": [
    "prompt = 'Give me the sentiment of the review: I went to watch a movie which was just pathetic. I was a waste of time'\n",
    "\n",
    "print(prompt)\n",
    "\n",
    "response = model.generate_content(prompt)\n",
    "print(response.text)"
   ]
  },
  {
   "cell_type": "code",
   "execution_count": 8,
   "metadata": {
    "colab": {
     "base_uri": "https://localhost:8080/",
     "height": 106
    },
    "id": "e3-czP_dM1iX",
    "outputId": "48f025d3-1c49-4166-c2fa-76076dc92537"
   },
   "outputs": [
    {
     "name": "stdout",
     "output_type": "stream",
     "text": [
      "Give me the sentiment of the review: I went to watch a movie which was just pathetic. I was a waste of time. Also give me quick logic of the answer\n",
      "Sentiment: Negative\n",
      "\n",
      "Logic: The reviewer states that the movie is \"pathetic\" and a \"waste of time\". These words imply that the reviewer did not enjoy the experience and found it to be negative.\n"
     ]
    }
   ],
   "source": [
    "prompt = 'Give me the sentiment of the review: I went to watch a movie which was just pathetic. I was a waste of time. Also give me quick logic of the answer'\n",
    "\n",
    "print(prompt)\n",
    "\n",
    "response = model.generate_content(prompt)\n",
    "print(response.text)"
   ]
  },
  {
   "cell_type": "code",
   "execution_count": 9,
   "metadata": {
    "colab": {
     "base_uri": "https://localhost:8080/",
     "height": 72
    },
    "id": "hYyc7oL6OK2Y",
    "outputId": "608e0979-5be1-4f42-cc28-486765dbc2cd"
   },
   "outputs": [
    {
     "name": "stdout",
     "output_type": "stream",
     "text": [
      "Classify the following news into Technology, Sports, Politics, Entertainment, Finance News: Budget 2024 makes new income tax regime more attractive: See how much taxes you can save\n",
      "Finance News\n"
     ]
    }
   ],
   "source": [
    "# Classify the Following:\n",
    "\n",
    "prompt = 'Classify the following news into Technology, Sports, Politics, Entertainment, Finance News: Budget 2024 makes new income tax regime more attractive: See how much taxes you can save'\n",
    "\n",
    "print(prompt)\n",
    "\n",
    "response = model.generate_content(prompt)\n",
    "print(response.text)"
   ]
  },
  {
   "cell_type": "code",
   "execution_count": 10,
   "metadata": {
    "colab": {
     "base_uri": "https://localhost:8080/",
     "height": 607
    },
    "id": "2YnKgj-WSHw4",
    "outputId": "27d1fcad-e7c7-41b4-dd4e-206336305623"
   },
   "outputs": [
    {
     "name": "stdout",
     "output_type": "stream",
     "text": [
      "## Deep Learning & Gen AI Learning Roadmap for Non-Computer Science Background\n",
      "\n",
      "| Phase | Topics | Estimated Hours |\n",
      "|---|---|---|\n",
      "**Phase 1: Foundational Math** (15 hours) |\n",
      "| **Linear algebra** | Matrix operations, vector spaces, eigenvalues/eigenvectors | 5 |\n",
      "| **Calculus** | Derivatives, integrals, optimization | 5 |\n",
      "| **Probability and statistics** | Random variables, probability distributions, Bayesian inference | 5 |\n",
      "\n",
      "**Phase 2: Programming Basics** (15 hours) |\n",
      "| **Python** | Data structures, control flow, functions | 10 |\n",
      "| **Data science libraries** | NumPy, Pandas, Matplotlib | 5 |\n",
      "\n",
      "**Phase 3: Machine Learning Basics** (30 hours) |\n",
      "| **Supervised learning** | Regression, classification, decision trees | 10 |\n",
      "| **Unsupervised learning** | Clustering, dimensionality reduction | 10 |\n",
      "| **Model evaluation** | Metrics, cross-validation, гиперпараметр tuning | 10 |\n",
      "\n",
      "**Phase 4: Deep Learning** (15 hours) |\n",
      "| **Artificial neural networks (ANNs)** | Perceptrons, feedforward networks | 5 |\n",
      "| **Convolutional neural networks (CNNs)** | Image recognition, object detection | 5 |\n",
      "| **Recurrent neural networks (RNNs)** | Time series, natural language processing | 5 |\n",
      "\n",
      "**Phase 5: Generative AI** (15 hours) |\n",
      "| **Generative adversarial networks (GANs)** | Image and text generation | 5 |\n",
      "| **Variational autoencoders (VAEs)** | Data compression, image generation | 5 |\n",
      "| **Transformer models** | Language translation, text summarization | 5 |\n",
      "\n",
      "**Phase 6: Advanced Topics** (Variable Hours) |\n",
      "| **Unsupervised learning for Gen AI** | Representation learning, clustering for Gen AI | X |\n",
      "| **Reinforcement learning** | Decision making in complex environments | X |\n",
      "| **Natural language processing** | Text analysis, machine translation | X |\n",
      "| **Computer vision** | Object detection, image segmentation | X |\n",
      "| **Generative AI for music and art** | Music composition, image manipulation | X |\n"
     ]
    }
   ],
   "source": [
    "# Roadmap\n",
    "\n",
    "prompt = 'Give me a learning roadmap for Deep Learning & Gen AI considering I come from Non Computer Science Background. I also want you to give me a 30 hour learning Roadmap and mention all topics which are essential. I also want you to generate the output in a table'\n",
    "\n",
    "response = model.generate_content(prompt)\n",
    "print(response.text)"
   ]
  },
  {
   "cell_type": "code",
   "execution_count": 11,
   "metadata": {
    "colab": {
     "base_uri": "https://localhost:8080/"
    },
    "id": "kkiPKZNcVFtr",
    "outputId": "6a3a2bbc-53f8-4f2c-c255-0dceca6ed279"
   },
   "outputs": [
    {
     "name": "stdout",
     "output_type": "stream",
     "text": [
      "Collecting pypdf\n",
      "  Downloading pypdf-5.0.0-py3-none-any.whl.metadata (7.4 kB)\n",
      "Requirement already satisfied: typing_extensions>=4.0 in /usr/local/lib/python3.10/dist-packages (from pypdf) (4.12.2)\n",
      "Downloading pypdf-5.0.0-py3-none-any.whl (292 kB)\n",
      "\u001b[?25l   \u001b[90m━━━━━━━━━━━━━━━━━━━━━━━━━━━━━━━━━━━━━━━━\u001b[0m \u001b[32m0.0/292.8 kB\u001b[0m \u001b[31m?\u001b[0m eta \u001b[36m-:--:--\u001b[0m\r",
      "\u001b[2K   \u001b[91m━━━━━━━━━━━━\u001b[0m\u001b[91m╸\u001b[0m\u001b[90m━━━━━━━━━━━━━━━━━━━━━━━━━━━\u001b[0m \u001b[32m92.2/292.8 kB\u001b[0m \u001b[31m2.5 MB/s\u001b[0m eta \u001b[36m0:00:01\u001b[0m\r",
      "\u001b[2K   \u001b[91m━━━━━━━━━━━━━━━━━━━━━━━━━━━━━━━━━━━━━━━\u001b[0m\u001b[90m╺\u001b[0m \u001b[32m286.7/292.8 kB\u001b[0m \u001b[31m4.4 MB/s\u001b[0m eta \u001b[36m0:00:01\u001b[0m\r",
      "\u001b[2K   \u001b[90m━━━━━━━━━━━━━━━━━━━━━━━━━━━━━━━━━━━━━━━━\u001b[0m \u001b[32m292.8/292.8 kB\u001b[0m \u001b[31m3.7 MB/s\u001b[0m eta \u001b[36m0:00:00\u001b[0m\n",
      "\u001b[?25hInstalling collected packages: pypdf\n",
      "Successfully installed pypdf-5.0.0\n"
     ]
    }
   ],
   "source": [
    "# Import and read PDF document inside Python\n",
    "\n",
    "!pip install pypdf\n",
    "\n",
    "from pypdf import PdfReader\n",
    "profile = PdfReader('/content/Abishake.pdf')"
   ]
  },
  {
   "cell_type": "code",
   "execution_count": 12,
   "metadata": {
    "id": "y6UOZOlIWuev"
   },
   "outputs": [],
   "source": [
    "# Extract the Content from the pdf\n",
    "\n",
    "text = ''\n",
    "\n",
    "for page in profile.pages:\n",
    "  text += page.extract_text()"
   ]
  },
  {
   "cell_type": "code",
   "execution_count": 13,
   "metadata": {
    "colab": {
     "base_uri": "https://localhost:8080/"
    },
    "id": "-DPADBgyXGHr",
    "outputId": "a46f845b-8dd5-489b-d437-c39493fc9fef",
    "scrolled": true
   },
   "outputs": [
    {
     "name": "stdout",
     "output_type": "stream",
     "text": [
      "                                                                                             \n",
      "Name:  Abishake N  \n",
      "Phone: 9080895842  \n",
      "Email ID: abishakemuthu@gmail.com  \n",
      "SUMMARY  \n",
      "▪ Passionate about data analytics with an education in data science. Wanted to have a good transition towards data \n",
      "field and seeking opportunities where I can utilize my analytical and technical skills to solve real life data analytics \n",
      "problem. You can find me on LinkedIn  | Hacker Rank  | GitHub  \n",
      "KEY SKILLS  \n",
      "▪ Power BI  – Power Query, Data Visualization, Interactive Reports and Dashboards in Power BI Service.  \n",
      "▪ Excel  – Power Query, Lookup Functions,  Indexing,  Pivot Tables , Charts  and Interactive Dashboards.  \n",
      "▪ MySQL  – Database Principals, Aggregate Functions, Joins, Subquery and Windows Functions and Views.  \n",
      "▪ Python  – Containers, Conditional Statements, Loops,  Functions , NumPy, Pandas and Seaborn Libraries.  \n",
      "▪ EDA  – Data Visualization, Data Pre -processing and Feature Engineering.  \n",
      "▪ Statistics  – Probability, Central Limit Theorem, Hypothesis Testing and Test of Significance.  \n",
      "▪ Machine Learning  – Regression, Classification, Bagging, Boosting and Clustering.  \n",
      "ADD SKILLS  \n",
      "▪ Tableau  – Visual Analytics, Data Transformation, Storytelling and Interactive Dashboards.  \n",
      "▪ ETL – ETL using Python, Web Scraping and Building ER Model & Fact -Dimension Model.  \n",
      "▪ Natural Language Processing  – Count Vectorizer, TF -IDF, Stemming and Lemmatization.  \n",
      "▪ Gen AI  – LLM (Chat GPT) and Prompting Techniques.  \n",
      "SOFT SKILLS  \n",
      "▪ Communication Skill   \n",
      "▪ Data Analysis  \n",
      "▪ Analytic Problem Solving  \n",
      "ACADEMIC PROJECTS  \n",
      "▪ Loan Default Prediction  - Capstone : View  \n",
      "The objective of this project is to  implement machine learning technique to minimize the risk of loan defaults.  Did \n",
      "data preprocessing, feature engineering and developed a predictive model which  got the best accuracy of 98%  on \n",
      "loan default predictions by logistic regression  with binning technique . \n",
      "Tools Used:  Python and  PowerPoint  \n",
      "▪ Sentiment Analysis using NLP : View  \n",
      "The goal of this project is to build a machine learning model capable of performing sentiment analysis on  Amazon  \n",
      "product reviews  as positive or negative providing insights into customer satisfaction . Did data cleaning , \n",
      "preprocessing  and developed a predictive model with 91% Accuracy  by XG -Boost Classifier.  \n",
      "Tools Used:  Python  \n",
      "▪ Electric Vehicle  Sales  Anal ysis: View  \n",
      "The goal  is to analyse the existing sales performance of electric vehicle in last  3 years  so that  AtliQ Motors  who is an \n",
      "automotive giant from the USA specializing in electric vehicles  can take decision about expansion  towards India  \n",
      "based on the sales of all other electric vehicle  brands and overall vehicle sales  in India.  \n",
      "Tools Used:   Power BI  \n",
      "▪ Coffee Sales Dashboard : View  \n",
      "The objective of this project is to develop a real -time coffee sales performance dashboard featuring various \n",
      "locations, enabling stakeholders to make decisions by visualizing key metrics to identify top -performing and \n",
      "underperforming areas to optimize inventory management and enhance overall profitability.  \n",
      "Tools Used:   MS Excel  \n",
      "                                                                                              \n",
      "Name:  Abishake N  \n",
      "Phone: 9080895842  \n",
      "Email ID: abishakemuthu@gmail.com  \n",
      "EDUCATION  \n",
      "Course  Institution  Year  Remarks  \n",
      "PGP in Data Science and Engineering  View  Great Lakes Institute of Management, Bangalore . 2024  Excel lent \n",
      "B. Tech - Fashion Technology  View  Kumaraguru College of Technology, Coimbatore . 2021  7.2 CGPA  \n",
      "12th Std View  Veveaham Higher Secondary School, Dharapuram . 2017  83%  \n",
      "10th Std View  Veveaham Higher Secondary School, Dharapuram . 2015  86%  \n",
      "HACK ATHONS  \n",
      "▪ NLP with Disaster Tweets  – Kaggle  – View      27 Sep 2024  \n",
      "The goal of this  competition  is to predict which tweets are about real disasters and which ones  are not. Did data \n",
      "preprocessing and developed a predictive model  which  got best accuracy  of 78% by Random Forest Classifier . \n",
      "▪ Restaurant Turnover Prediction  – Great Learning  – View    16 Sep 2024  \n",
      "The goal of this  hackathon  is to predict the Annual Turnover of a restaurant.  Did data preprocessing, feature \n",
      "engineering and developed a predictive model  and got best minimum error  by SGD  Regressor.  \n",
      "▪ Predict The Data Scientists Salary in India  – Machine Hack  – View   27 Aug 2024  \n",
      "Objective is to predict the Data Scientists Salary in India. Did data preprocessing, feature engineering and developed \n",
      "a predictive model  and got the best accuracy of 32% by XGB Regressor.  \n",
      "▪ Workation Price Prediction  – Machine Hack  – View     23 Aug 2024  \n",
      "Objective is to predict the Price Per Person for workcation trip . Did data preprocessing, feature engineering and \n",
      "developed a predictive model  and g ot the best minimum error of 22% by Random Forest Regressor.  \n",
      "CERTIFICATIONS  \n",
      "▪ Career Essentials in Data Analysis by Microsoft and LinkedIn  – View   19 Sep 2024 \n",
      "Learned Power Query, Pivot Tables, Dashboards, Ad hoc Requests and Documentations using Excel and Power BI.  \n",
      "▪ Business Analysis by Coursera  – View       18 Jan 2024  \n",
      "Learned Text Formatting, basic Aggregation Functions and creating basic charts using Excel.  \n",
      "PROFESSIONAL SUMMARY  \n",
      "▪ Merchandiser - Rana Tex , Tirupur . View       Nov 2022 - Dec 2023  \n",
      "I led a team of 20 People in Manufacturing and provided a consistent work to the organization and having a track \n",
      "record of successfully managing product development, sourcing, and inventory control to meet business objectives . \n",
      "We have done Job order for brands like OVS, Easy Buy and Zudio, etc.  \n",
      "▪ Junior Merchandiser - Ever Mellow , Tirupur.  View     Nov 2021 - Oct 2022  \n",
      "I worked in a team of 6 People as a Sample Product Developer and Proficient in fabric selection, colour \n",
      "development, and pattern making, ensuring that all products meet the Standards . We have done many challenging \n",
      "Projects for a brands like Cat & Caterpillar, Lee Copper and Bonton, etc.  \n",
      "ACHIEVEMENTS  \n",
      "▪ Won 1st Place in “Restaurant Turnover Prediction ” hackathon conducted by Great Learning on Sep -24 View  \n",
      "▪ 4-star SQL badge in Hacker Rank  View  \n"
     ]
    }
   ],
   "source": [
    "print(text)"
   ]
  },
  {
   "cell_type": "code",
   "execution_count": 14,
   "metadata": {
    "id": "MzaC6I0Maaz5"
   },
   "outputs": [],
   "source": [
    "job_desc = '''Bachelor's or Master's degree in Computer Science, Data Science, or a related field.\n",
    "Strong understanding of artificial intelligence concepts and technologies, such as machine learning and data analysis.\n",
    "Experience with popular AI frameworks and libraries such as TensorFlow, PyTorch, or scikit-learn.\n",
    "Strong leadership and project management skills, with the ability to drive projects to successful completion.\n",
    "Excellent communication and interpersonal skills, with the ability to collaborate effectively with technical and non-technical stakeholders.\n",
    "Strong problem-solving and analytical abilities, with a focus on delivering practical and impactful solutions.\n",
    "Ability to adapt to changing project requirements and priorities in a fast-paced environment.\n",
    "Experience in Agile project management methodologies is a plus.\n",
    "Passion for driving innovation and leveraging artificial intelligence to solve business challenges.'''"
   ]
  },
  {
   "cell_type": "code",
   "execution_count": 15,
   "metadata": {
    "colab": {
     "base_uri": "https://localhost:8080/",
     "height": 558
    },
    "id": "0Ky-DWKuYLI8",
    "outputId": "7aa5940c-0f8a-48b7-cb7e-66002d32a6e4"
   },
   "outputs": [
    {
     "name": "stdout",
     "output_type": "stream",
     "text": [
      "**Resume 1:**\n",
      "\n",
      "* **Strengths:**\n",
      "    * Clear and concise summary of skills and experience\n",
      "    * Quantifies results from projects\n",
      "    * Includes hackathons and certifications\n",
      "* **Weaknesses:**\n",
      "    * Education section is missing year of graduation for PGP\n",
      "    * Professional summary could be more detailed\n",
      "\n",
      "**Resume 2:**\n",
      "\n",
      "* **Strengths:**\n",
      "    * Strong skills and experience in AI and machine learning\n",
      "    * Includes a detailed summary of desired qualifications\n",
      "    * Provides specific examples of projects and contributions\n",
      "* **Weaknesses:**\n",
      "    * Lacks hands-on experience in data science projects\n",
      "    * Could benefit from more specific achievements\n",
      "\n",
      "**Probability of Selection:**\n",
      "\n",
      "Based on the provided information, **Resume 1** has a higher probability of getting selected for a data science role, especially for a fresher. Resume 1 demonstrates a solid foundation in data analysis skills, quantified results, and includes hands-on projects and hackathons.\n",
      "\n",
      "For **Resume 2**, although it aligns well with the desired qualifications, the lack of hands-on experience in data science projects may put the candidate at a disadvantage.\n",
      "\n",
      "**Overall Probability:**\n",
      "\n",
      "* **Resume 1:** 70-80%\n",
      "* **Resume 2:** 60-70%\n"
     ]
    }
   ],
   "source": [
    "# Lets compare the JB Desc with the Profile...\n",
    "\n",
    "prompt = f'Compare the Resume:\\n\\n{text}\\n\\n with the \\n\\n{job_desc}\\n\\n and tell me the probability of getting selected.in percentage and I am a fresher'\n",
    "\n",
    "response = model.generate_content(prompt)\n",
    "print(response.text)"
   ]
  },
  {
   "cell_type": "code",
   "execution_count": 17,
   "metadata": {
    "colab": {
     "base_uri": "https://localhost:8080/",
     "height": 696
    },
    "id": "2nGsyD5vamgF",
    "outputId": "97a010d9-1d56-434d-f1b1-cf20a760ec77"
   },
   "outputs": [
    {
     "name": "stdout",
     "output_type": "stream",
     "text": [
      "**Resume 1:**\n",
      "\n",
      "**ATR Score:** 4/10\n",
      "\n",
      "**Areas of Alignment:**\n",
      "\n",
      "* Education in Data Science\n",
      "* Skills in Power BI, Excel, MySQL, Python, and EDA\n",
      "* Project experience in loan default prediction, sentiment analysis, electric vehicle sales analysis, and coffee sales dashboard\n",
      "\n",
      "**Areas of Improvement:**\n",
      "\n",
      "* Lack of experience in artificial intelligence frameworks and libraries\n",
      "* Limited leadership and project management skills\n",
      "* No mention of Agile project management methodologies\n",
      "* Lack of passion for driving innovation and solving business challenges\n",
      "\n",
      "**Resume 2:**\n",
      "\n",
      "**ATR Score:** 6/10\n",
      "\n",
      "**Areas of Alignment:**\n",
      "\n",
      "* Education in Data Science\n",
      "* Skills in Power BI, Excel, MySQL, Python, EDA, and Statistics\n",
      "* Project experience in loan default prediction, sentiment analysis, electric vehicle sales analysis, and coffee sales dashboard\n",
      "* Certification in Career Essentials in Data Analysis by Microsoft and LinkedIn\n",
      "* Professional experience as a Merchandiser and Junior Merchandiser\n",
      "* Achievements in hackathons and Hacker Rank\n",
      "\n",
      "**Areas of Improvement:**\n",
      "\n",
      "* Still lacks experience in artificial intelligence frameworks and libraries\n",
      "* Needs to highlight leadership and project management skills\n",
      "* Could emphasize passion for driving innovation and solving business challenges\n",
      "* Lack of Agile project management experience\n",
      "\n",
      "Overall, the second resume aligns better with the job description due to its inclusion of professional experience, certifications, and achievements. However, both resumes could benefit from stronger alignment with the required artificial intelligence skills and more emphasis on leadership, project management, and innovation.\n"
     ]
    }
   ],
   "source": [
    "# Lets compare the JB Desc with the Profile...\n",
    "\n",
    "prompt = f'Compare the Resume:\\n\\n{text}\\n\\n with the \\n\\n{job_desc}\\n\\n and tell me the ATR score of my resume with respect to job description'\n",
    "\n",
    "response = model.generate_content(prompt)\n",
    "print(response.text)"
   ]
  },
  {
   "cell_type": "markdown",
   "metadata": {
    "id": "3jIZu3fa5XVY"
   },
   "source": [
    "## Few Short Prompting"
   ]
  },
  {
   "cell_type": "code",
   "execution_count": 18,
   "metadata": {
    "id": "ZrfjddMGeC31"
   },
   "outputs": [],
   "source": [
    "examples = [{'input':'Translate into Italian: Its Raining in the city Today',\n",
    "             'output':'Oggi piove in citta'},\n",
    "            {'input':'Translate into Italian: Generative AI is in rage these Days',\n",
    "             'output':'L’intelligenza artificiale generativa è di gran moda in questi giorni'}]"
   ]
  },
  {
   "cell_type": "code",
   "execution_count": 19,
   "metadata": {
    "colab": {
     "base_uri": "https://localhost:8080/",
     "height": 34
    },
    "id": "IGvR0ZgZ5a9D",
    "outputId": "d0b3fdee-d65f-47ce-e043-e44d65828dda"
   },
   "outputs": [
    {
     "name": "stdout",
     "output_type": "stream",
     "text": [
      "ಹವಾಮಾನ ಇಲ್ಲಿ ಅದ್ಭುತವಾಗಿದೆ\n"
     ]
    }
   ],
   "source": [
    "# Pass the Prompt\n",
    "prompt = 'Translate the text into Kannada: The Weather is beautiful here'\n",
    "\n",
    "# Generate the Text\n",
    "response = model.generate_content(prompt+'\\n\\nExamples:\\n'+str(examples))\n",
    "print(response.text)"
   ]
  },
  {
   "cell_type": "code",
   "execution_count": 20,
   "metadata": {
    "colab": {
     "base_uri": "https://localhost:8080/",
     "height": 34
    },
    "id": "9pju7kog-BZW",
    "outputId": "e4c56bac-f806-4cd6-ec66-e2a6eafd5fe3"
   },
   "outputs": [
    {
     "name": "stdout",
     "output_type": "stream",
     "text": [
      "இங்கே வானிலை அழகாக உள்ளது\n"
     ]
    }
   ],
   "source": [
    "# Pass the Prompt\n",
    "prompt = 'Translate the text into Tamil: The Weather is beautiful here'\n",
    "\n",
    "# Generate the Text\n",
    "response = model.generate_content(prompt)\n",
    "print(response.text)"
   ]
  },
  {
   "cell_type": "code",
   "execution_count": 21,
   "metadata": {
    "colab": {
     "base_uri": "https://localhost:8080/",
     "height": 156
    },
    "id": "Tye285gv_uuA",
    "outputId": "b73ca482-6703-4b41-8d3d-cedcb256f19f"
   },
   "outputs": [
    {
     "name": "stdout",
     "output_type": "stream",
     "text": [
      "```python\n",
      "def factorial(n):\n",
      "    \"\"\"Calculate the factorial of a number.\"\"\"\n",
      "    if n == 0:\n",
      "        return 1\n",
      "    else:\n",
      "        return n * factorial(n-1)\n",
      "```\n"
     ]
    }
   ],
   "source": [
    "examples = [\n",
    "    {\"input\": \"Calculate the sum of two numbers.\",\n",
    "     \"output\": \"def sum(a, b):\\n  return a + b\"},\n",
    "    {\"input\": \"Find the maximum of two numbers.\",\n",
    "     \"output\": \"def max(a, b):\\n  if a > b:\\n    return a\\n  else:\\n    return b\"}\n",
    "]\n",
    "\n",
    "prompt = \"Write a Python function to calculate the factorial of a number.\"\n",
    "\n",
    "result = model.generate_content(prompt + \"\\n\\nExamples:\\n\" + str(examples))\n",
    "print(result.text)"
   ]
  },
  {
   "cell_type": "code",
   "execution_count": 22,
   "metadata": {
    "colab": {
     "base_uri": "https://localhost:8080/",
     "height": 191
    },
    "id": "QpWyDs5r_v2z",
    "outputId": "6e90313d-0d43-418c-d4bd-96f52439fbbf"
   },
   "outputs": [
    {
     "name": "stdout",
     "output_type": "stream",
     "text": [
      "```sql\n",
      "SELECT\n",
      "  M.manager_name, /* Manager's name */\n",
      "  GROUP_CONCAT(E.employee_name) AS employee_names /* Comma-separated employee names */\n",
      "FROM Manager AS M\n",
      "JOIN Employee AS E\n",
      "  ON M.manager_id = E.manager_id\n",
      "GROUP BY\n",
      "  M.manager_name;\n",
      "```\n"
     ]
    }
   ],
   "source": [
    "# SQL Queries using Few Shot Prompting\n",
    "\n",
    "examples = [\n",
    "    {\"input\": \"Extract employee name from Employee Table.\",\n",
    "     \"output\": \"Select employee_name from employee\"},\n",
    "    {\"input\": \"Extract Employee whose Salary is more than 50000\",\n",
    "     \"output\": \"Select * from employee where Salary>50000\"}\n",
    "]\n",
    "\n",
    "prompt = \"Write a SQL Query to find the Manager's name along with their employees\"\n",
    "\n",
    "result = model.generate_content(prompt + \"\\n\\nExamples:\\n\" + str(examples))\n",
    "print(result.text)"
   ]
  },
  {
   "cell_type": "markdown",
   "metadata": {
    "id": "QR1-A1RgGneh"
   },
   "source": [
    "## Chain of Thoughts\n",
    "\n",
    "* Series of thoughts put together\n",
    "* Covering Dilemma, Possible Options, Plausible Options may be contextual or non contextual\n",
    "* are given to the model leading to Decision Making.\n",
    "\n",
    "## Important Points\n",
    "\n",
    "* Make it detailed as possible\n",
    "* Try to be specific as you can\n",
    "* Leave no room for Ambiguity or Guessing"
   ]
  },
  {
   "cell_type": "code",
   "execution_count": 23,
   "metadata": {
    "colab": {
     "base_uri": "https://localhost:8080/",
     "height": 471
    },
    "id": "JV5GGFj9EA8U",
    "outputId": "8b40bb7d-0af8-45db-b7cc-1399d8bbfc93"
   },
   "outputs": [
    {
     "name": "stdout",
     "output_type": "stream",
     "text": [
      "**Logical Steps for Decision-Making:**\n",
      "\n",
      "1. **Assess the urgency of the break:** Since the audience is feeling hungry, it is reasonable to consider taking a break.\n",
      "\n",
      "2. **Evaluate the remaining agenda:** The agenda for the day is relatively light, with prompting and application building still to be covered.\n",
      "\n",
      "3. **Consider the time constraints:** The class has already started at 8 am, and it is important to make the best use of the remaining time.\n",
      "\n",
      "4. **Weigh the pros and cons of taking a break now vs. after completing the current exercise:**\n",
      "\n",
      "   - **Taking a break now:**\n",
      "     - Pros: Refreshes the audience and allows them to return with focus.\n",
      "     - Cons: May interrupt the flow of the discussion on chain of thought.\n",
      "   \n",
      "   - **Solving the exercise first:**\n",
      "     - Pros: Maintains the momentum of the discussion and ensures all the content is covered.\n",
      "     - Cons: May result in a delayed break and increased hunger.\n",
      "\n",
      "5. **Consider the preferences of the audience:** It is important to take into account how the audience is feeling and respect their need for nourishment.\n",
      "\n",
      "**Recommended Decision:**\n",
      "\n",
      "Based on the logical steps above, a possible decision could be to **take a short break (15-20 minutes) now** to address the hunger issue and then **continue with the discussion on chain of thought**.\n",
      "\n",
      "This decision allows for a compromise between accommodating the audience's immediate needs and ensuring that the essential content for the day is covered.\n"
     ]
    }
   ],
   "source": [
    "prompt = ''' Question Shall we take a break now or solve the exercise first and then take a break?\n",
    "\n",
    "Chain of Thought:\n",
    "1. ***Situation*** The class starts at 8 and we are in the middle of discussion the chain of Thought Concept in Gen AI.\n",
    "2. ***Input from audionce*** Everyone came early and feeling hungry. Its time to break for the breakfast.\n",
    "3. ***Agenda for Today*** The Agenda seems light today as we need to discuess prompting and then we will go and build one application.\n",
    "4. ***Final Thoughts*** We feel that we have the flexibility to prioritise thing during the session and can go for a break before we complete the concept.\n",
    "\n",
    "Note: We really cannot decide what shall we do and hence we need your help to assesss the situation and come up with the logical steps behind your thought process.'''\n",
    "\n",
    "response = model.generate_content(prompt)\n",
    "print(response.text)"
   ]
  },
  {
   "cell_type": "code",
   "execution_count": 24,
   "metadata": {
    "colab": {
     "base_uri": "https://localhost:8080/",
     "height": 853
    },
    "id": "GF2SbYLjUb6M",
    "outputId": "42878bd2-bc33-4e48-90f0-22c35a7815e8"
   },
   "outputs": [
    {
     "name": "stdout",
     "output_type": "stream",
     "text": [
      "**SWOT Analysis:**\n",
      "\n",
      "**Strengths:**\n",
      "\n",
      "* Strong academic foundation in engineering\n",
      "* Experience as a Data Scientist\n",
      "* Desire for professional growth and learning\n",
      "\n",
      "**Weaknesses:**\n",
      "\n",
      "* Financial constraints for pursuing a Masters abroad\n",
      "* Potential for a long-term financial burden with education loan\n",
      "\n",
      "**Opportunities:**\n",
      "\n",
      "* Cutting-edge technology education and networking opportunities in the U.S.\n",
      "* Career advancement prospects in the U.S.\n",
      "* Return on investment over the long term\n",
      "\n",
      "**Threats:**\n",
      "\n",
      "* Competition for scholarships and financial aid\n",
      "* Potential for cultural and lifestyle adjustments\n",
      "\n",
      "**Psychological Evaluation:**\n",
      "\n",
      "* Strong motivation to pursue further education and career growth\n",
      "* Willingness to take financial risks\n",
      "* Awareness of the challenges and potential benefits\n",
      "* Ambitious and driven\n",
      "\n",
      "**Logical Set of Thoughts:**\n",
      "\n",
      "* **Assess Financial Implications:** Determine the total cost of the Masters program, including tuition, living expenses, and loan interest. Consider your current salary and career prospects to estimate how long it will take to repay the loan.\n",
      "* **Weigh Educational Opportunities:** Evaluate the potential for learning and growth in the U.S. versus India. Consider the research opportunities, faculty expertise, and industry connections available in the U.S.\n",
      "* **Consider Career Prospects:** Explore the job market and career opportunities in the U.S. for graduates with a Masters degree in your field. Compare these opportunities to those available in India.\n",
      "* **Introspection:** Reflect on your own motivations, priorities, and values. Determine whether pursuing a Masters abroad aligns with your long-term goals and whether you are willing to make the necessary sacrifices.\n",
      "\n",
      "**Recommendation:**\n",
      "\n",
      "Based on the SWOT analysis, psychological evaluation, and logical set of thoughts, it is **recommended that you consider pursuing a Masters abroad in the U.S.** if:\n",
      "\n",
      "* You are financially prepared to take on the cost of education and believe it will lead to a long-term financial return.\n",
      "* You value the cutting-edge technology education, networking opportunities, and career advancement prospects available in the U.S.\n",
      "* You are willing to make the sacrifices necessary for personal and professional growth.\n",
      "\n",
      "However, if you are concerned about the financial burden or believe that the opportunities available in India are sufficient for your career goals, then choosing to work in India may be a more suitable option.\n"
     ]
    }
   ],
   "source": [
    "# Dilemma of Masters Abroad vs Work Life Here...\n",
    "\n",
    "prompt = '''\n",
    "Question - Shall I go to Masters Abroad (U.S.) or Work here in India?\n",
    "\n",
    "Chain of Thought\n",
    "1.**Current Situation** - I have done Engineering from a College in Southern Part of India and currently working with Happiest Minds as a Data Scientist.\n",
    "2.**Why Masters in US?** - The Masters in US will open doors to new Learning and growing opportunities. I will be able to Learn cutting edge \\\n",
    "technoligies in the college which between is also availabe in Indian colleges too. The key aspect is the networking opperortunities that the land can offer.\n",
    "3. **Finantial Factor** - I do agree that it will be financially straining and I will have to work for almost a decade to pay heavy education loan unless I am lucky to get scholarship.\n",
    "4.**What about indian Colleges?** - The Colleges in india is equally good but opportunities in USA will be much more than India.\n",
    "\n",
    "Answer: I want you to tell me what should I do?\n",
    "\n",
    "Note: Act as a carrier consultant & Psychologist and evaluate my situation and help me in my decision. I also want you to Provide a logical set of thoughts to arrive at \\\n",
    "the solution. In the end, I want you to tell me what should I do. Do a swat Analysis of my situation as well.'''\n",
    "\n",
    "response = model.generate_content(prompt)\n",
    "print(response.text)"
   ]
  },
  {
   "cell_type": "code",
   "execution_count": 25,
   "metadata": {
    "colab": {
     "base_uri": "https://localhost:8080/",
     "height": 939
    },
    "id": "7Lb0VtviZgVV",
    "outputId": "5380e4ab-1ca2-4d59-b380-28dd9fa10412"
   },
   "outputs": [
    {
     "name": "stdout",
     "output_type": "stream",
     "text": [
      "## Situation Analysis\n",
      "\n",
      "**Strengths:**\n",
      "\n",
      "* Pursuing Data Science from a reputable institution (Great Learning)\n",
      "* Interest and willingness to learn Data Science\n",
      "\n",
      "**Weaknesses:**\n",
      "\n",
      "* Fresher with no prior work experience in Data Science\n",
      "* Financial constraints\n",
      "\n",
      "**Opportunities:**\n",
      "\n",
      "* Growing demand for Data Scientists in the job market\n",
      "* Availability of online learning platforms and resources\n",
      "\n",
      "**Threats:**\n",
      "\n",
      "* Competition from experienced candidates\n",
      "* Potential job rejection due to lack of experience\n",
      "\n",
      "## Decision-Making Process\n",
      "\n",
      "1. **Define Your Goals:** Determine your specific job aspirations and the timeline for achieving them.\n",
      "2. **Assess Your Skills:** Evaluate your current Data Science knowledge and identify areas for improvement.\n",
      "3. **Create a Structured Schedule:** Allocate dedicated time slots for studying, practicing, and completing projects.\n",
      "4. **Utilize Free Resources:** Explore online courses, tutorials, and open-source projects to augment your learning without breaking the bank.\n",
      "5. **Network and Seek Mentorship:** Connect with industry professionals and seek guidance to gain insights and navigate the job market.\n",
      "\n",
      "## Productive Study Schedule\n",
      "\n",
      "**Daytime:**\n",
      "\n",
      "* **Morning (2-3 hours):** Core Data Science concepts (e.g., statistics, probability)\n",
      "* **Afternoon (2-3 hours):** Programming skills (e.g., Python, R)\n",
      "\n",
      "**Evenings:**\n",
      "\n",
      "* **Weekdays (2-3 hours):** Hands-on projects and problem-solving\n",
      "* **Weekends (4-6 hours):** Review concepts, work on personal projects\n",
      "\n",
      "**Additional Tips:**\n",
      "\n",
      "* **Set Realistic Goals:** Don't overwhelm yourself with an unattainable schedule. Start with manageable chunks and gradually increase study time.\n",
      "* **Prioritize Active Learning:** Engage in hands-on projects, case studies, and discussions.\n",
      "* **Seek Feedback:** Share your work with mentors or peers to identify areas for improvement.\n",
      "* **Stay Motivated:** Set milestones and reward yourself for progress. Connect with a study group or online community for support.\n",
      "\n",
      "## Conclusion\n",
      "\n",
      "By following a structured and productive study schedule, networking with professionals, and utilizing free resources, you can enhance your Data Science skills and increase your chances of securing a job despite your financial limitations. Remember to stay persistent, seek feedback, and continue learning to stay competitive in the ever-evolving field of Data Science.\n"
     ]
    }
   ],
   "source": [
    "prompt = '''\n",
    "Question: How to make a productive shedule to learn Data Science as a fresher and apply for Job?\n",
    "\n",
    "Chain of Thoughts\n",
    "***Current Situation*** - I am pursuing Data Science from Great Learning.\n",
    "***Finantial Factor*** - I dont have much money to pay for extra course.\n",
    "\n",
    "Answer - I want you to tell me what should I do?\n",
    "\n",
    "Note: Act as a carrier consultant & Psychologist and evaluate my situation and help me in my decision. I also want you to Provide a logical set of thoughts to arrive at \\\n",
    "the solution. In the end, I want you to tell me what should I do. Do a swat Analysis of my situation as well.'''\n",
    "\n",
    "response = model.generate_content(prompt)\n",
    "print(response.text)"
   ]
  }
 ],
 "metadata": {
  "colab": {
   "provenance": []
  },
  "kernelspec": {
   "display_name": "Python 3 (ipykernel)",
   "language": "python",
   "name": "python3"
  },
  "language_info": {
   "codemirror_mode": {
    "name": "ipython",
    "version": 3
   },
   "file_extension": ".py",
   "mimetype": "text/x-python",
   "name": "python",
   "nbconvert_exporter": "python",
   "pygments_lexer": "ipython3",
   "version": "3.11.5"
  }
 },
 "nbformat": 4,
 "nbformat_minor": 1
}
